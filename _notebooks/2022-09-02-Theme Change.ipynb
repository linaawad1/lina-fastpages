{
 "cells": [
  {
   "cell_type": "markdown",
   "metadata": {},
   "source": [
    "# Theme Change\n",
    "> This has my Theme change\n",
    "\n",
    "- toc: false\n",
    "- comments: true\n",
    "- permalink: /notebooks/themechange\n",
    "- categories: week 2"
   ]
  },
  {
   "cell_type": "markdown",
   "metadata": {},
   "source": [
    "![]({{site.baseurl}}/images/minima**ltheme.png)"
   ]
  }
 ],
 "metadata": {
  "language_info": {
   "name": "python"
  },
  "orig_nbformat": 4
 },
 "nbformat": 4,
 "nbformat_minor": 2
}
