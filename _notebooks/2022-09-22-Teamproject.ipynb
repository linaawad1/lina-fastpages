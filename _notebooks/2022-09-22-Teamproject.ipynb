{
 "cells": [
  {
   "cell_type": "markdown",
   "metadata": {},
   "source": [
    "# Our Idea\n",
    "> Team Spirit!!!\n",
    "\n",
    "- toc: true \n",
    "- layout: base\n",
    "- badges: true\n",
    "- categories: [week 5]"
   ]
  },
  {
   "cell_type": "markdown",
   "metadata": {},
   "source": [
    "### Purpose\n",
    "\n",
    "Our snake-like computer game will allow the user to play snake with a layout similar to person running. it will be super fun and exciting hopefully!"
   ]
  },
  {
   "cell_type": "markdown",
   "metadata": {},
   "source": [
    "Do we have final project ideas for a PBL Web Project?\n",
    "- Yes, we are thinking of making a computer game similar to snake with our personalized elements that make everyone included.\n",
    "\n",
    "Are we considering a project that is best for our educational purpose?\n",
    "- Not exactly, our purpose is to make a game for the enjoyment of others.\n",
    "\n",
    "Is the project going to hold team members interest for 8 weeks?\n",
    "- I think so because we all agreed on the idea and how we want to have fun with it.\n",
    "\n",
    "Does the project have potential for someone to use it beyond the 8 weeks? ie Customer or Sponsor needed?\n",
    "- It's kind of simple so it's not a revolutionary idea but it will have its \n",
    "specialties. However it won't need real customer or sponser.\n",
    "\n",
    "Does the project have potential to be used for Create Performance Task submission?\n",
    "- If we pull it off and make it kind of unique it probably can be used for Create Performance Task Submission"
   ]
  },
  {
   "cell_type": "markdown",
   "metadata": {},
   "source": [
    "### Team Roles\n",
    "\n",
    "- DevOp: Lina(me)\n",
    "- Frontened Developer: Dylan\n",
    "- Backened Developer: Naja\n",
    "- Scrum Master: Lydia"
   ]
  }
 ],
 "metadata": {
  "kernelspec": {
   "display_name": "JavaScript (Node.js)",
   "language": "javascript",
   "name": "javascript"
  },
  "language_info": {
   "file_extension": ".js",
   "mimetype": "application/javascript",
   "name": "javascript",
   "version": "10.13.0"
  },
  "orig_nbformat": 4,
  "vscode": {
   "interpreter": {
    "hash": "31f2aee4e71d21fbe5cf8b01ff0e069b9275f58929596ceb00d14d90e3e16cd6"
   }
  }
 },
 "nbformat": 4,
 "nbformat_minor": 2
}
