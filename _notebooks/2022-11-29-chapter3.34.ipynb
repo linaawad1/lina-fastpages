{
 "cells": [
  {
   "cell_type": "markdown",
   "metadata": {},
   "source": [
    "# Chapter 3.3 and 3.4\n",
    "> Lesson Notes and hacks\n",
    "\n",
    "- toc: true \n",
    "- layout: base\n",
    "- badges: true\n",
    "- categories: [lessons]"
   ]
  },
  {
   "cell_type": "markdown",
   "metadata": {},
   "source": [
    "### Notes"
   ]
  },
  {
   "cell_type": "markdown",
   "metadata": {},
   "source": [
    "### Learning Objective\n",
    "Express an algorithm that uses sequencing without using a programming language\n",
    "\n",
    "### Essential Knowledge\n",
    "- Algorithms can be expressed in a variety of ways and can be executed by programs which are implemented using programming languages. \n",
    "- Every algorithm can be constructed using combinations of sequencing, selection, and iteration\n",
    "\n",
    "An algorithm is a finite set of instructions that accomplish a specific task, us as humans, do algorithms on a daily basis. \n",
    "\n",
    "Sequencing is doing steps in order, for example, doing the first step then the second then the third, etc. \n",
    "\n",
    "Selection is when the programmer decides between two different outcomes. \n",
    "\n",
    "Iteration is when you have to repeat a step until that condition is fulfilled. \n",
    "\n",
    "### Examples\n",
    "\n",
    "Number 1:\n",
    "\n",
    "Must be in order:\n",
    "- Set largestNumber to 0, Get next number in list, If number is larger than largestNumber then set largestNumber to number, If there are more numbers in list, go back to Step 2, Display largestNumber\n",
    "\n",
    "Number 2:\n",
    "\n",
    "Vocabulary:\n",
    "- algorithm- finite set of instructions that accomplish a specific task, composed of sequencing, selection, and iteration.\n",
    "- selection- a section of code is run only if a condition is met.\n",
    "- iteration- repeating steps or instructions over and over again\n",
    "- sequencing- outline or set of steps that we do and follow in order that they are given\n",
    "- variable- you can store an actual value, the value of a variable in another variable, the result of an operation, or result of a procedural call\n",
    "\n",
    "Asnwer: all sums divided by 3 = 26.667\n",
    "\n",
    "Answer: 3. 2 3\n",
    "\n",
    "Answer: 2. 20\n",
    "\n",
    "### Video 3\n",
    "\n",
    "- A plus sign indicates addition: a + b\n",
    "\n",
    "- A subtraction sign indicates subtraction: a - b\n",
    "\n",
    "- An asterisk/star indicates multiplication: a * b\n",
    "\n",
    "- A slash indicates division: a / b\n",
    "\n",
    "Answer: 29\n",
    "\n",
    "### 3.4 Video 1: Strings\n",
    "\n",
    "- String: sequence of characters in a string\n",
    "1. Len: finds a number of characters in a string\n",
    "2. String concatenation: combines two or more strings into one\n",
    "3. Substring: a part of a existing string"
   ]
  },
  {
   "cell_type": "markdown",
   "metadata": {},
   "source": [
    "### Hacks"
   ]
  },
  {
   "cell_type": "code",
   "execution_count": 1,
   "metadata": {},
   "outputs": [
    {
     "name": "stdout",
     "output_type": "stream",
     "text": [
      "[0, 2, 4, 6, 8, 10]\n"
     ]
    }
   ],
   "source": [
    "numbers = [0,1,2,3,4,5,6,7,8,9,10]\n",
    "evens = []\n",
    "\n",
    "for i in numbers:\n",
    "    if (numbers[i] % 2 == 0):\n",
    "        evens.append(numbers[i])\n",
    "\n",
    "print(evens)"
   ]
  },
  {
   "cell_type": "markdown",
   "metadata": {},
   "source": [
    "1. \n",
    "- The sequencing is when the code runs through the steps so all of them combines\n",
    "- the \"for i in numbers\" is the iteration because it appends the even numbers from the list\n",
    "- The selection is \"if (numbers[i] % 2 == 0):\" because thats when the code picks the number, it picks the even numbers"
   ]
  },
  {
   "cell_type": "code",
   "execution_count": null,
   "metadata": {},
   "outputs": [],
   "source": [
    "i = 1\n",
    "starString = \"*\"\n",
    "while i <= 5:\n",
    "  j = 1\n",
    "  while j <= i:\n",
    "    print (\"*\", end= \"\")\n",
    "    j += 1\n",
    "  print ()\n",
    "  i += 1"
   ]
  },
  {
   "cell_type": "markdown",
   "metadata": {},
   "source": [
    "2.\n",
    "- Sequencing: The code running through the steps\n",
    "- Iteration: the \"while\" statements\n",
    "- Selection: the print statements?\n",
    "\n",
    "Check:\n",
    "The selection is actually the \"while j\" and the iteration is the \"while i\""
   ]
  },
  {
   "cell_type": "markdown",
   "metadata": {},
   "source": [
    "### Video 2 Hacks\n",
    "\n",
    "1. \n",
    "\n",
    "a ⟵ 7\n",
    "\n",
    "b ⟵ 1\n",
    "\n",
    "c ⟵ 3\n",
    "\n",
    "d ⟵ 4\n",
    "\n",
    "a ⟵ b\n",
    "\n",
    "b ⟵ c + d\n",
    "\n",
    "d ⟵ b\n",
    "\n",
    "\n",
    "- Answer: 1, 12, 3, 12 --> 1, 7, 3, 7\n",
    "- Check: Not 12 it is 7, i did the math wrong sorry\n",
    "\n",
    "2. \n",
    "\n",
    "hot ⟵ true\n",
    "\n",
    "cold ⟵ false\n",
    "\n",
    "cold ⟵ hot\n",
    "\n",
    "hot ⟵ cold\n",
    "\n",
    "\n",
    "- Asnwer: Both are true\n",
    "\n",
    "3. \n",
    "\n",
    "dog ⟵ yes\n",
    "\n",
    "cat ⟵ no\n",
    "\n",
    "cat ⟵ dog\n",
    "\n",
    "cow ⟵ pig\n",
    "\n",
    "pig ⟵ owl\n",
    "\n",
    "- display(cat)\n",
    "- Asnwer: yes because dog is yes and since cat is dog, cat must also be yes in this case\n",
    "\n",
    "4. \n",
    "\n",
    "cookie ⟵ 3\n",
    "\n",
    "cake ⟵ 2\n",
    "\n",
    "cookie ⟵ cake\n",
    "\n",
    "donut ⟵ 5\n",
    "\n",
    "chocolate ⟵ donut\n",
    "\n",
    "caramel ⟵ 3\n",
    "\n",
    "- display(donut + cake + cookie + chocolate + caramel)\n",
    "- Answer: 17 looking at the code segmant its all the right values\n",
    "\n",
    "5. \n",
    "\n",
    "Answer: num1 = 6, num2 = 11\n",
    "\n",
    "6. Test 1\n",
    "\n",
    "firstName <- \"Bob\" \n",
    "lastName <- \"Smith\" \n",
    "var <- substring(firstName, 1, 1) \n",
    "name <- concat(lastName, var) \n",
    "email <- concat(name, \"@gmail.com\") \n",
    "DISPLAY(email)\n",
    "\n",
    "What would the result be?\n",
    "\n",
    "Hint: var = \"B\" name = \"SmithB\"\n",
    "\n",
    "Asnwer: Result would be \"SmithB@gmail.com\" for email based on the sequencing\n",
    "\n",
    "7. Test 2\n",
    "\n",
    "word1 <- \"computer\" \n",
    "word2 <- \"textbooks\" \n",
    "length1 <- len(word1)/2 \n",
    "length2 <- len(word2)/3 \n",
    "first <- substring(word1, 2, len1) \n",
    "second <- substring(word2, len2+3, len2) \n",
    "newWord <- concat(first, second) \n",
    "DISPLAY(newWord)\n",
    "\n",
    "Answer: since the length of \"computer\" is 8 then you divide it by two to get 4. Then for word2 it is 9/3 which is 3. This means it is the first 4 of \"computer\" besides 'c' and last 3 of \"textbook\" so the answer is \"ompuook\" for the result"
   ]
  },
  {
   "cell_type": "markdown",
   "metadata": {},
   "source": [
    "### Final Thoughts on lesson/reflection\n",
    "- I really liked your presentation you can tell you guys put a lot of effort understanding what you were teaching and making the lesson super fun for everyone. I liked how the lessons were interactive and felt super fun and informative.\n",
    "- The hacks were also super manageable but also challenging at times(like the last one)\n",
    "- Good Job!!!!"
   ]
  }
 ],
 "metadata": {
  "kernelspec": {
   "display_name": "Python 3.8.9 64-bit",
   "language": "python",
   "name": "python3"
  },
  "language_info": {
   "codemirror_mode": {
    "name": "ipython",
    "version": 3
   },
   "file_extension": ".py",
   "mimetype": "text/x-python",
   "name": "python",
   "nbconvert_exporter": "python",
   "pygments_lexer": "ipython3",
   "version": "3.8.9"
  },
  "orig_nbformat": 4,
  "vscode": {
   "interpreter": {
    "hash": "31f2aee4e71d21fbe5cf8b01ff0e069b9275f58929596ceb00d14d90e3e16cd6"
   }
  }
 },
 "nbformat": 4,
 "nbformat_minor": 2
}
